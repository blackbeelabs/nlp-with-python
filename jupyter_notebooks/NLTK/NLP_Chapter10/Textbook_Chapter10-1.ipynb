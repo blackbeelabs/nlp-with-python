{
 "cells": [
  {
   "cell_type": "markdown",
   "metadata": {},
   "source": [
    "# 10.1 - Natural Language Understanding"
   ]
  },
  {
   "cell_type": "markdown",
   "metadata": {},
   "source": [
    "## Querying a Database\n",
    "Given that there exists a database of cities and their respective countries, e.g. "
   ]
  },
  {
   "cell_type": "code",
   "execution_count": 6,
   "metadata": {
    "scrolled": false
   },
   "outputs": [
    {
     "data": {
      "text/html": [
       "<div>\n",
       "<style scoped>\n",
       "    .dataframe tbody tr th:only-of-type {\n",
       "        vertical-align: middle;\n",
       "    }\n",
       "\n",
       "    .dataframe tbody tr th {\n",
       "        vertical-align: top;\n",
       "    }\n",
       "\n",
       "    .dataframe thead th {\n",
       "        text-align: right;\n",
       "    }\n",
       "</style>\n",
       "<table border=\"1\" class=\"dataframe\">\n",
       "  <thead>\n",
       "    <tr style=\"text-align: right;\">\n",
       "      <th></th>\n",
       "      <th>City</th>\n",
       "      <th>Country</th>\n",
       "    </tr>\n",
       "  </thead>\n",
       "  <tbody>\n",
       "    <tr>\n",
       "      <th>0</th>\n",
       "      <td>Athens</td>\n",
       "      <td>Greece</td>\n",
       "    </tr>\n",
       "    <tr>\n",
       "      <th>1</th>\n",
       "      <td>Bangkok</td>\n",
       "      <td>Thailand</td>\n",
       "    </tr>\n",
       "    <tr>\n",
       "      <th>2</th>\n",
       "      <td>Barcelona</td>\n",
       "      <td>Spain</td>\n",
       "    </tr>\n",
       "  </tbody>\n",
       "</table>\n",
       "</div>"
      ],
      "text/plain": [
       "        City   Country\n",
       "0     Athens    Greece\n",
       "1    Bangkok  Thailand\n",
       "2  Barcelona     Spain"
      ]
     },
     "execution_count": 6,
     "metadata": {},
     "output_type": "execute_result"
    }
   ],
   "source": [
    "import pandas as pd\n",
    "city_table = [{\"City\": \"Athens\", \"Country\":\"Greece\"},\n",
    "              {\"City\": \"Bangkok\", \"Country\":\"Thailand\"},\n",
    "              {\"City\": \"Barcelona\", \"Country\":\"Spain\"}]\n",
    "pd.DataFrame(city_table)"
   ]
  },
  {
   "cell_type": "markdown",
   "metadata": {},
   "source": [
    "Then when a question like \"*What country is Athens in?*\" is asked, the answer to that question is \"*Greece*\". The way to perform such question-and-answer (or querying) is via SQL. For example, the question can be translated to:\n",
    "\n",
    "`SELECT country FROM city_table WHERE city = 'Athens'; `\n",
    "\n",
    "However, in order to address a task in a more general domain, we will need a whole new set of tools.\n",
    "\n",
    "How do we get the same effect using English as our input? The feature-based grammar learnt in Chapter 9 illustrates how to assemble a meaning representation for a sentence in tandem with parsing the sentence. "
   ]
  },
  {
   "cell_type": "code",
   "execution_count": 2,
   "metadata": {},
   "outputs": [
    {
     "name": "stdout",
     "output_type": "stream",
     "text": [
      "% start S\n",
      "S[SEM=(?np + WHERE + ?vp)] -> NP[SEM=?np] VP[SEM=?vp]\n",
      "VP[SEM=(?v + ?pp)] -> IV[SEM=?v] PP[SEM=?pp]\n",
      "VP[SEM=(?v + ?ap)] -> IV[SEM=?v] AP[SEM=?ap]\n",
      "NP[SEM=(?det + ?n)] -> Det[SEM=?det] N[SEM=?n]\n",
      "PP[SEM=(?p + ?np)] -> P[SEM=?p] NP[SEM=?np]\n",
      "AP[SEM=?pp] -> A[SEM=?a] PP[SEM=?pp]\n",
      "NP[SEM='Country=\"greece\"'] -> 'Greece'\n",
      "NP[SEM='Country=\"china\"'] -> 'China'\n",
      "Det[SEM='SELECT'] -> 'Which' | 'What'\n",
      "N[SEM='City FROM city_table'] -> 'cities'\n",
      "IV[SEM=''] -> 'are'\n",
      "A[SEM=''] -> 'located'\n",
      "P[SEM=''] -> 'in'\n"
     ]
    }
   ],
   "source": [
    "import nltk\n",
    "nltk.data.show_cfg('grammars/book_grammars/sql0.fcfg')"
   ]
  },
  {
   "cell_type": "markdown",
   "metadata": {},
   "source": [
    "This will allow us to parse a query into SQL (2 examples follow):"
   ]
  },
  {
   "cell_type": "code",
   "execution_count": 7,
   "metadata": {},
   "outputs": [
    {
     "name": "stdout",
     "output_type": "stream",
     "text": [
      "SELECT City FROM city_table WHERE Country=\"china\"\n"
     ]
    }
   ],
   "source": [
    "from nltk import load_parser\n",
    "cp = load_parser('grammars/book_grammars/sql0.fcfg')\n",
    "query = 'What cities are located in China'\n",
    "trees = list(cp.parse(query.split()))\n",
    "answer = trees[0].label()['SEM']\n",
    "answer = [s for s in answer if s]\n",
    "q = ' '.join(answer)\n",
    "print(q)"
   ]
  },
  {
   "cell_type": "code",
   "execution_count": 9,
   "metadata": {},
   "outputs": [
    {
     "name": "stdout",
     "output_type": "stream",
     "text": [
      "SELECT City FROM city_table WHERE Country=\"greece\"\n"
     ]
    }
   ],
   "source": [
    "query2 = 'What cities are located in Greece'\n",
    "trees2 = list(cp.parse(query2.split()))\n",
    "answer2 = trees2[0].label()['SEM']\n",
    "answer2 = [s for s in answer2 if s]\n",
    "q2 = ' '.join(answer2)\n",
    "print(q2)"
   ]
  },
  {
   "cell_type": "markdown",
   "metadata": {},
   "source": [
    "We are now able to return useful data in response to a query in natural language."
   ]
  },
  {
   "cell_type": "code",
   "execution_count": 5,
   "metadata": {},
   "outputs": [
    {
     "name": "stdout",
     "output_type": "stream",
     "text": [
      "canton\n",
      "chungking\n",
      "dairen\n",
      "harbin\n",
      "kowloon\n",
      "mukden\n",
      "peking\n",
      "shanghai\n",
      "sian\n",
      "tientsin\n"
     ]
    }
   ],
   "source": [
    "from nltk.sem import chat80\n",
    "#nltk.download('city_database')\n",
    "rows = chat80.sql_query('corpora/city_database/city.db', q)\n",
    "for r in rows: \n",
    "    print(r[0])"
   ]
  },
  {
   "cell_type": "markdown",
   "metadata": {},
   "source": [
    "There is 2 criticism points to this approach.\n",
    "\n",
    "* the grammar is very hard-wired. The production `N[SEM='City FROM city_table'] -> 'cities'` requires us to explicitly know the table name but the same data could be in a different table. \n",
    "* the phrases `Which` `cities` correspond to the SQL `SELECT` and `from city_table` respectively. But none of these have a well-defined meaning when isolated from the other.\n",
    "\n",
    "Hence, we need an approach more abstract and generic than SQL."
   ]
  },
  {
   "cell_type": "markdown",
   "metadata": {},
   "source": [
    "## Natural Language, Semantics and Logic"
   ]
  },
  {
   "cell_type": "markdown",
   "metadata": {},
   "source": [
    "Let's introduce two fundamental notions in semantics. The first is that **declarative sentences are *true* or *false* in certain situations**. The second is that **definite noun phrases and proper nouns refer to things in the world**.\n",
    "\n",
    "Once we have adopted the notion of truth in a situation, we have a powerful tool for reasoning. We can look at sets of sentences and ask if they can be true together in some situation. \n",
    "\n",
    "**Example 1**\n",
    "\n",
    "* Singapore is to the south of Malaysia\n",
    "* Singapore is a republic\n",
    "\n",
    "Both these sentences in **Example 1** can be true, and are called **consistent sentences**.\n",
    "\n",
    "**Example 2**\n",
    "\n",
    "* Singapore is to the south of Malaysia\n",
    "* Singapore is to the north of Malaysia\n",
    "\n",
    "**Example 3**\n",
    "* The population of Kuala Lumpur is 1.6 million.\n",
    "* No city in Malaysia has a population of 1.6 million.\n",
    "\n",
    "**Example 4**\n",
    "* The population of Singapore is 5.4 million.\n",
    "* The population of Singapore is 3.0 million.\n",
    "\n",
    "Both these sentences in **Example 2** cannot be true, because the relation *to the south* is asymmetric to *to the north*. Similarly, the capital of a country is a city within that country, or the numeric value  of a property can only take one value. Hence both sentences in **Example 3** and **Example 4** cannot be true at the same time.These sentences are called **inconsistent sentences**."
   ]
  },
  {
   "cell_type": "markdown",
   "metadata": {},
   "source": [
    "Logic-based approaches to natural language semantics focus on aspects of natural language that guide our judgements of consistency and inconsistency. Determining properties of consistency can be reduced to a task manipulated by a computer. Let's first develop a technique to representing a solution, what logicians call a **model**."
   ]
  },
  {
   "cell_type": "markdown",
   "metadata": {},
   "source": [
    "A **model** is a set $W$ of sentences in a formal representation of a situation where all the sentences in $W$ are true.\n",
    "\n",
    "The usual way of representing models involves set theory. The domain $D$ of discource (all the entities we are about) is a set of individuals, while relations are treated as sets built up from $D$. \n",
    "\n",
    "For example, a domain $D$ consists of three children, Stefan, $s$, Klaus, $k$ and Evi, $e$. This is denoted as\n",
    "\n",
    "$$\n",
    "D = \\left\\{s, k, e\\right\\}\n",
    "$$\n",
    "\n",
    "The following sentences follow:\n",
    "\n",
    "* The expression *boy* denotes the set consisting of Stefan and Klaus. \n",
    "* The expression *girl* denotes the set consisting of Evi.\n",
    "* The expression *is running* denotes the set consisting of Stefan and Evi.\n",
    "\n",
    "You are able to create a Venn diagram to represent these 3 sets and their respective members, in a universal set $D$."
   ]
  },
  {
   "cell_type": "markdown",
   "metadata": {},
   "source": [
    "Can a computer understand the meaning of a sentence? And how could we tell if it did...in other words, can a computer think? *Alan Turing* famously proposed to answer this by examining the ability of a computer to hold sensible conversations with a human.\n",
    "\n",
    "Suppose you're having a chat session with an entity, a person or a computer, but you're not told on the outset which is it. If you cannot identify which of your partners is a computer after chatting with them then the computer has successfully imitated a human, or has passed the \"Turing Test\". If a computer can pass the Turing test then we should be prepared to say a computer *can think* and can be said to be intelligent."
   ]
  },
  {
   "cell_type": "code",
   "execution_count": null,
   "metadata": {},
   "outputs": [],
   "source": []
  }
 ],
 "metadata": {
  "kernelspec": {
   "display_name": "Python 3",
   "language": "python",
   "name": "python3"
  },
  "language_info": {
   "codemirror_mode": {
    "name": "ipython",
    "version": 3
   },
   "file_extension": ".py",
   "mimetype": "text/x-python",
   "name": "python",
   "nbconvert_exporter": "python",
   "pygments_lexer": "ipython3",
   "version": "3.4.3"
  }
 },
 "nbformat": 4,
 "nbformat_minor": 2
}
