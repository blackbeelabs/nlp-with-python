{
 "cells": [
  {
   "cell_type": "markdown",
   "metadata": {},
   "source": [
    "# 10.2 - Propositional Logic"
   ]
  },
  {
   "cell_type": "markdown",
   "metadata": {},
   "source": [
    "A logical langauge is designed to make reasoning formally explicit. As a result, it can capture aspects of natural language which determines whether a set of sentences is consistent. For this approach, we need to develop logical representations of a sentence, $\\phi$ that formally capture the **truth-conditions** of $\\phi$."
   ]
  },
  {
   "cell_type": "markdown",
   "metadata": {},
   "source": [
    "In the sentence:\n",
    "\n",
    "$s$ = `[Klaus chased Evi] and [Evi ran away]`\n",
    "\n",
    "Let's replace the two sub-sentences with $\\phi$ and $\\psi$, and put in the logical operator $\\&$ corresponding to `and`. As a result, the structure $\\phi \\text{ }\\&\\text{ } \\psi$ is the **logical form** of the sentence $s$."
   ]
  },
  {
   "cell_type": "markdown",
   "metadata": {},
   "source": [
    "**Propositional logic** allows us to represent parts of linguistic structure that correspond to certain sentential connectives. They are represented by **Boolean operators**. The basic expressions of propositional logic are called **propositional symbols**, often written as $P$, $Q$ and $R$. The operators, represented in `nltk` are:"
   ]
  },
  {
   "cell_type": "code",
   "execution_count": 1,
   "metadata": {},
   "outputs": [
    {
     "name": "stdout",
     "output_type": "stream",
     "text": [
      "negation       \t-\n",
      "conjunction    \t&\n",
      "disjunction    \t|\n",
      "implication    \t->\n",
      "equivalence    \t<->\n"
     ]
    }
   ],
   "source": [
    "import nltk\n",
    "nltk.boolean_ops()"
   ]
  },
  {
   "cell_type": "markdown",
   "metadata": {},
   "source": [
    "From the **prepositional symbols** and **Boolean operators**, we can build an infinite set of **well-formed formulas** of propositional logic. Some concepts are as follows: \n",
    "\n",
    "* Every prepositional letter is a formula. If $\\phi$ is a formula, then $-\\phi$ is also a formula.\n",
    "* If $\\phi$ and $\\psi$ are formulas, then so are $(\\phi \\text{  } \\& \\text{  } \\psi)$, $(\\phi \\text{  } | \\text{  } \\psi)$, $(\\phi \\rightarrow \\psi)$ and $(\\phi \\leftrightarrow \\psi)$\n",
    "\n",
    "`nltk`'s `LogicParser()` parses logical expressions into various subclasses of `Expression`."
   ]
  },
  {
   "cell_type": "code",
   "execution_count": 2,
   "metadata": {},
   "outputs": [
    {
     "data": {
      "text/plain": [
       "<NegatedExpression -(P & Q)>"
      ]
     },
     "execution_count": 2,
     "metadata": {},
     "output_type": "execute_result"
    }
   ],
   "source": [
    "read_expr = nltk.sem.Expression.fromstring\n",
    "read_expr('-(P & Q)')"
   ]
  },
  {
   "cell_type": "code",
   "execution_count": 3,
   "metadata": {},
   "outputs": [
    {
     "data": {
      "text/plain": [
       "<AndExpression (P & Q)>"
      ]
     },
     "execution_count": 3,
     "metadata": {},
     "output_type": "execute_result"
    }
   ],
   "source": [
    "read_expr('(P & Q)')"
   ]
  },
  {
   "cell_type": "code",
   "execution_count": 4,
   "metadata": {},
   "outputs": [
    {
     "data": {
      "text/plain": [
       "<OrExpression (P | (R -> Q))>"
      ]
     },
     "execution_count": 4,
     "metadata": {},
     "output_type": "execute_result"
    }
   ],
   "source": [
    "read_expr('P | (R -> Q)')"
   ]
  },
  {
   "cell_type": "code",
   "execution_count": 5,
   "metadata": {},
   "outputs": [
    {
     "data": {
      "text/plain": [
       "<IffExpression (P <-> --P)>"
      ]
     },
     "execution_count": 5,
     "metadata": {},
     "output_type": "execute_result"
    }
   ],
   "source": [
    "read_expr('P <-> --P')"
   ]
  },
  {
   "cell_type": "markdown",
   "metadata": {},
   "source": [
    "The following are the truth conditions of Boolean Operators in Propositional Logic:\n",
    "\n",
    "| Boolean Operator |  | Truth | Conditions   |\n",
    "|------|------|------|\n",
    "|   negation (it is not the case that...)  | $-\\phi$ is true in $s$| iff|$\\phi$ is false in $s$ |\n",
    "|   conjunction (and)  | $(\\phi \\text{  } \\& \\text{  } \\psi)$ is true in $s$| iff|$\\phi$ is true in $s$ and $\\psi$ is true in $s$ |\n",
    "|   disjunction (or)  | $(\\phi \\text{  } | \\text{  } \\psi)$ is true in $s$| iff|$\\phi$ is true in $s$ or $\\psi$ is true in $s$ |\n",
    "|   implication (if...then)  | $(\\phi \\rightarrow  \\psi)$ is true in $s$ | iff|$\\phi$ is false in $s$ or $\\psi$ is true in $s$ |\n",
    "|   equivalence (if and only if)  | $(\\phi \\leftrightarrow  \\psi)$ is true in $s$ | iff|$\\phi$ and $\\psi$ are both true in $s$ or both false in $s$ |"
   ]
  },
  {
   "cell_type": "markdown",
   "metadata": {},
   "source": [
    "**Homework**: Explaing $(\\phi \\rightarrow  \\psi)$ is true in $s$ further:\n",
    "\n",
    "| Truth | $\\phi$ | $-\\phi$   |\n",
    "|------|------|\n",
    "|$\\psi$ |$(\\phi \\rightarrow  \\psi)$ is true|$(\\phi \\rightarrow  \\psi)$ is false|\n",
    "|$-\\psi$ |$(\\phi \\rightarrow  \\psi)$ is false|$(\\phi \\rightarrow  \\psi)$ is true|"
   ]
  },
  {
   "cell_type": "markdown",
   "metadata": {},
   "source": [
    "\n",
    "From a computational perspective, logics give us an important tool for performing inference. Here's a worked example.\n",
    "\n",
    "* Singapore is not to the north of Malaysia\n",
    "* Malaysia is to the north of Singapore\n",
    "\n",
    "The *second sentence* is the **assumption** of the argument while the *first sentence* is the **conclusion**. This is an example of an **argument**. The step of moving from one or more assumptions to a conclusion is called **inference**. Here's the inferential expression of the above sentences:\n",
    "\n",
    "`[Malaysia is to the north of Singapore.] `\n",
    "Therefore/hence, `[Singapore is not to the north of Malaysia]`\n",
    "\n",
    "An argument is **valid** if there is *no possible situation* in which its premises are all true and the its conclusion is not true.\n",
    "\n",
    "The validity of the above example depends on the meaning of the phrase *to the north of*, which is an asymmetric relation:\n",
    "\n",
    "* If $x$ is to the north of $y$ then $y$ is not to the north of $x$.\n",
    "\n",
    "But we cannot express such rules in propositional logic. What we can do best is to cature a particular case of this asymmetry. Going back to the example:"
   ]
  },
  {
   "cell_type": "markdown",
   "metadata": {},
   "source": [
    "Let the expression of the above sentences to be:\n",
    "* \\[Malaysia is to the north of Singapore.\\] (`MnS`)\n",
    "* \\[Singapore is not to the north of Malaysia\\] (`-SnM`)\n",
    "\n",
    "Now we can write as an *implication*:\n",
    "* `MnS -> -SnM`\n",
    "\n",
    "By replacing the first sentence by 2 formulas of propositional logic: `MnS` and writing the implication above, we produce the complete argument, by using the notation `a1, a2, ... / C` to represent the conclusion `C` follows from assumptions `a1, a2, ...`:\n",
    "* `MnS, MnS -> -SnM / -SnM`\n",
    "\n",
    "This is a *valid argument*.\n",
    "\n",
    "Equivalently, the list of sentences `[MnS, MnS -> -SnM, SnM]` is inconsistent."
   ]
  },
  {
   "cell_type": "code",
   "execution_count": 6,
   "metadata": {},
   "outputs": [],
   "source": [
    "lp = nltk.sem.Expression.fromstring\n",
    "snf = read_expr('SnF')\n",
    "Notfns = read_expr('-FnS')\n",
    "r = read_expr('SnF -> -FnS')\n",
    "prover = nltk.Prover9()\n",
    "#print(prover.prove(Notfns, [snf, r]))"
   ]
  },
  {
   "cell_type": "markdown",
   "metadata": {},
   "source": [
    "A `Valuation` in `nltk` is a mapping from basic expressions of the logic to their values."
   ]
  },
  {
   "cell_type": "code",
   "execution_count": 7,
   "metadata": {},
   "outputs": [],
   "source": [
    "#Initialize a Valuation with a list of pairs, each consisting of a semantic symbol and semantic value.\n",
    "val = nltk.Valuation([('P', True), \n",
    "                      ('Q', True), \n",
    "                      ('R', False)])"
   ]
  },
  {
   "cell_type": "code",
   "execution_count": 8,
   "metadata": {},
   "outputs": [
    {
     "data": {
      "text/plain": [
       "True"
      ]
     },
     "execution_count": 8,
     "metadata": {},
     "output_type": "execute_result"
    }
   ],
   "source": [
    "val['P']"
   ]
  },
  {
   "cell_type": "code",
   "execution_count": 9,
   "metadata": {},
   "outputs": [],
   "source": [
    "dom = set()\n",
    "g = nltk.Assignment(dom)\n",
    "m = nltk.Model(dom, val)"
   ]
  },
  {
   "cell_type": "markdown",
   "metadata": {},
   "source": [
    "Use the `evaluate` function in the model to determine the semantic value of logical expressions, like formulas of propositional logic."
   ]
  },
  {
   "cell_type": "code",
   "execution_count": 10,
   "metadata": {},
   "outputs": [
    {
     "data": {
      "text/plain": [
       "True"
      ]
     },
     "execution_count": 10,
     "metadata": {},
     "output_type": "execute_result"
    }
   ],
   "source": [
    "m.evaluate('(P & Q)', g)"
   ]
  },
  {
   "cell_type": "code",
   "execution_count": 11,
   "metadata": {},
   "outputs": [
    {
     "data": {
      "text/plain": [
       "False"
      ]
     },
     "execution_count": 11,
     "metadata": {},
     "output_type": "execute_result"
    }
   ],
   "source": [
    "m.evaluate('-(P & Q)', g)"
   ]
  },
  {
   "cell_type": "code",
   "execution_count": 12,
   "metadata": {},
   "outputs": [
    {
     "data": {
      "text/plain": [
       "False"
      ]
     },
     "execution_count": 12,
     "metadata": {},
     "output_type": "execute_result"
    }
   ],
   "source": [
    "m.evaluate('(P & R)', g)"
   ]
  },
  {
   "cell_type": "code",
   "execution_count": 13,
   "metadata": {},
   "outputs": [
    {
     "data": {
      "text/plain": [
       "True"
      ]
     },
     "execution_count": 13,
     "metadata": {},
     "output_type": "execute_result"
    }
   ],
   "source": [
    "m.evaluate('(P | R)', g)"
   ]
  }
 ],
 "metadata": {
  "kernelspec": {
   "display_name": "Python 3",
   "language": "python",
   "name": "python3"
  },
  "language_info": {
   "codemirror_mode": {
    "name": "ipython",
    "version": 3
   },
   "file_extension": ".py",
   "mimetype": "text/x-python",
   "name": "python",
   "nbconvert_exporter": "python",
   "pygments_lexer": "ipython3",
   "version": "3.4.3"
  }
 },
 "nbformat": 4,
 "nbformat_minor": 2
}
