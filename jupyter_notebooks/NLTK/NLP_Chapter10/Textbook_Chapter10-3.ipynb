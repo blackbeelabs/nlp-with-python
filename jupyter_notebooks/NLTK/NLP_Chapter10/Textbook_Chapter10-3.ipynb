{
 "cells": [
  {
   "cell_type": "markdown",
   "metadata": {},
   "source": [
    "# 10.3 - First Order Logic\n",
    "In this chapter, we will express language expressions by translating them to first-order logic.\n",
    "## Syntax\n",
    "First-Order Logic keeps all the boolean operators of Propositional Logic but it adds some important new mechanisms. \n",
    "* Propositions are analysed into predicates and arguments. \n",
    "* The standard construction rules for first-order logic recognize **terms** as individual variables and individual constants, and **predicates**, a function that tells us what the subject does or is, which take differing numbers of arguments."
   ]
  },
  {
   "cell_type": "markdown",
   "metadata": {},
   "source": [
    "A **predicate** is an expression that can be *true* of something. For example, the expression `is moving` is true of anything that is moving. Some examples of predicates are:\n",
    "\n",
    "* She **dances** (verb-only predicate)\n",
    "* Ben **reads the book** (verb-plus-direct-object predicate) denoted as `read(book)`\n",
    "* She **gave me a present** (verb-plus-indirect-object-plus-direct-object predicate) denoted as `give(me, a present)`\n",
    "* They **elected her president** (verb-plus-indirect-object-plus-predicative-noun predicate) denoted as `elect(her, president)`"
   ]
  },
  {
   "cell_type": "markdown",
   "metadata": {},
   "source": [
    "For example, \n",
    "* `Angus walks` is formalized as a a **unary predicate** `walks(angus)`.\n",
    "* `Angus sees Bertie` is formalized as a **binary predicate** `see(angus, bertie)`.  \n",
    "\n",
    "The symbols used in predicates do not have intrinsic meaning. There is *no logical difference* between the following:\n",
    "\n",
    "1. `love(margaret, lucy)` (in English)\n",
    "2. `sarang(margaret, lucy)` (in Korean)\n",
    "\n",
    "First-order logic has nothing substantiative to say about lexical semantics (the meaning of individual words). Whether an atomaic predication like `see(angus, beetle)` is true or false is not a matter of logic, but depends on the particular valuation of the *constants* we have chosen, in this case, `see`, `angus` and `beetle`. For this reason, such expressions are called **non-logical constants**. By contrast, **logical constants** like boolean operators always receive the same interpretation in every model of first-order logic.\n",
    "\n",
    "A binary predicate that has special status to note is equality, in formulas like `angus = aj`. Equality is regarded as a logical constant. Because for 2 entities, $t_1$ and $t_2$, the formula $t_1=t_2$ is only trueif and only if $t_1$ and $t_2$ refer to one and the same entity."
   ]
  },
  {
   "cell_type": "markdown",
   "metadata": {},
   "source": [
    "To inspect the syntactic structure of expressions of first-order logic, we often assign **types** to expressions. We use two **basic types**, $e$ is the **type of entities** while $t$ is the **type of formulas** i.e. expressions which have truth values. \n",
    "\n",
    "Given these two basic types, $e$ and $t$, we can form **complex types** for function expressions. That is, given any types $\\sigma$ and $\\tau$, $\\left<\\sigma, \\tau\\right>$ is a complex type corresponding to functions from \"$\\sigma$ things\" to \"$\\tau$ things\". For example, $\\left<e, t\\right>$ is the type of expressions from entites to truth values (see above paragraph), namely unary predicates. The logical expression can be processed with type checking."
   ]
  },
  {
   "cell_type": "code",
   "execution_count": 1,
   "metadata": {},
   "outputs": [
    {
     "data": {
      "text/plain": [
       "<ConstantExpression angus>"
      ]
     },
     "execution_count": 1,
     "metadata": {},
     "output_type": "execute_result"
    }
   ],
   "source": [
    "import nltk\n",
    "read_expr = nltk.sem.Expression.fromstring\n",
    "expr = read_expr('walk(angus)', type_check=True)\n",
    "expr.argument"
   ]
  },
  {
   "cell_type": "code",
   "execution_count": 2,
   "metadata": {},
   "outputs": [
    {
     "data": {
      "text/plain": [
       "e"
      ]
     },
     "execution_count": 2,
     "metadata": {},
     "output_type": "execute_result"
    }
   ],
   "source": [
    "expr.argument.type"
   ]
  },
  {
   "cell_type": "code",
   "execution_count": 3,
   "metadata": {},
   "outputs": [
    {
     "data": {
      "text/plain": [
       "<ConstantExpression walk>"
      ]
     },
     "execution_count": 3,
     "metadata": {},
     "output_type": "execute_result"
    }
   ],
   "source": [
    "expr.function"
   ]
  },
  {
   "cell_type": "code",
   "execution_count": 4,
   "metadata": {},
   "outputs": [
    {
     "data": {
      "text/plain": [
       "<e,?>"
      ]
     },
     "execution_count": 4,
     "metadata": {},
     "output_type": "execute_result"
    }
   ],
   "source": [
    "#Notice that it's a ? here\n",
    "expr.function.type"
   ]
  },
  {
   "cell_type": "markdown",
   "metadata": {},
   "source": [
    "Notice the final result `<e, ?>`. Although the type-checker will try to infer as many times as possible, in this case it has not managed to fully specify the type. $t$ of `walk`, since its result type is unknown. We intend `walk` to have the type `<e, t>` as far as the type-checker knows, in this context it could be of some other type such as `<e, e>` or `<e, <e, t>`.\n",
    "\n",
    "To help the type-checker, we need to specify a **signature**, implemented as a dictionary that associates types with non-logical constants:"
   ]
  },
  {
   "cell_type": "code",
   "execution_count": 5,
   "metadata": {},
   "outputs": [
    {
     "name": "stdout",
     "output_type": "stream",
     "text": [
      "walk\n",
      "e\n"
     ]
    }
   ],
   "source": [
    "sig = {'walk' : '<e, t>'}\n",
    "expr = read_expr('walk(angus)', signature=sig)\n",
    "print(expr.function)\n",
    "print(expr.function.type)"
   ]
  },
  {
   "cell_type": "markdown",
   "metadata": {},
   "source": [
    "A binary predicate has type $\\left<e, \\left<e,t\\right>\\right>$. Although this is the type which combines first with an argument of type $e$ to make a unary predicate, we represent binary predicates as directly combining directly with their two arguments. For example, in the sentence `Angus sees Cyril`, we explicitly identify the unary predicate `see(cyril)`. The predicate `see` in the translation of the unary predicate will combine with its arguments to give the result `see(angus, cyril)`."
   ]
  },
  {
   "cell_type": "markdown",
   "metadata": {},
   "source": [
    "In first-order logic, the arguments can also be individual variables like $x$, $y$ and $z$. Individual varriables are similar to personal pronouns `he`, `she` and `it` and we need to know the context to figure out their denotation. One way of interpreting the pronoun in the sentence `He disappeared` is by pointing to a relevant individual in the local context. (Explicitly, what proper noun does `He` in `He disappeared` refer to in some passage?)\n",
    "\n",
    "Let's say the passage is `Cyril is Angus's dog. He disappeared.` Here, we say `He` is **coreferential** with the noun phrase `Cyril`. As a result, the above sentence is sementically equivalent to `Cyril is Angus's dog. Cyril disappeared.`\n",
    "\n",
    "Contrast this with the occurence of `he` in the following sentence: `Angus had a dog but he disappeared`. This sentence is not sementically equivalent to `Angus had a dog but a dog disappeared`. \n",
    "\n",
    "We can construct an **open formula** with two occurences of the variable $x$:\n",
    "\n",
    "* He is a dog and he disappeared\n",
    "* $\\text{dog}(x) \\wedge \\text{disappear}(x)$\n",
    "\n",
    "Let's continue. by placing an **existential quantifier, $\\exists x$** (translated to 'for some $x$') in front of the above open formula, we can bind these variables:\n",
    "\n",
    "* $\\exists x.(dog(x) \\wedge disappear(x))$ (for some entity)\n",
    "* At least one entity is a dog and the dog disappeared.\n",
    "* A dog disappeared.\n",
    "\n",
    "The NLTK rendering of the above expression is:\n",
    "\n",
    "`exists x.(dog(x) & disappear(x))`\n",
    "\n",
    "In addition to the existential quantifier, first-order logic offers us the **universal quantifier, $\\forall x$** (translated to 'for all '$x$') illustrated as follows:\n",
    "\n",
    "* $\\forall x .(dog(x) \\rightarrow disappear(x))$\n",
    "* Everything has the property that if it is a dog, it disappears.\n",
    "* Every dog disappeared\n",
    "\n",
    "The NLTK syntax for the above expression is:\n",
    "\n",
    "`all x.(dog(x) -> disappear(x))`\n",
    "\n",
    "Note that the above expression *does not state if there are any dogs*. So in a situation where there are no dogs, `all x (dog(x) -> disappear(x))` will still come out true."
   ]
  },
  {
   "cell_type": "markdown",
   "metadata": {},
   "source": [
    "Now what happens in formulas like the following:\n",
    "\n",
    "`((exists x.dog(x)) -> bark(x))`\n",
    "\n",
    "The scope of the `exists x` quantifier is `dog(x)`, so the occurence of `x` in `bark(x)` is **unbound**. Consequently, it can become bound by some other quantifier, for example `all x` in the next formula:\n",
    "\n",
    "`all x.((exists x.dog(x)) -> bark(x))`\n",
    "\n",
    "In general, an occurence of a variable $x$ in a formula $\\phi$ is **free** in $\\phi$ if that occurence does not fall within the scope of `all x` or `some x` in $\\phi$. Conversely, if $x$ is free in formula $\\phi$, then it is **bound** in `all x.`$\\phi$ and `exists x.`$\\phi$. If all variable occureneces in a formula are bound, the formula is said to be **closed**."
   ]
  },
  {
   "cell_type": "markdown",
   "metadata": {},
   "source": [
    "We mentioned before that the `Expression` object can process strings and returns objects of class `Expression`. Each instance `expr` of this class comes with a method `free()` which returns the set of variables that are free in `expr`."
   ]
  },
  {
   "cell_type": "code",
   "execution_count": 6,
   "metadata": {},
   "outputs": [
    {
     "data": {
      "text/plain": [
       "set()"
      ]
     },
     "execution_count": 6,
     "metadata": {},
     "output_type": "execute_result"
    }
   ],
   "source": [
    "read_expr = nltk.sem.Expression.fromstring\n",
    "read_expr('dog(cyril)').free()"
   ]
  },
  {
   "cell_type": "code",
   "execution_count": 7,
   "metadata": {},
   "outputs": [
    {
     "data": {
      "text/plain": [
       "{Variable('x')}"
      ]
     },
     "execution_count": 7,
     "metadata": {},
     "output_type": "execute_result"
    }
   ],
   "source": [
    "read_expr('dog(x)').free()"
   ]
  },
  {
   "cell_type": "code",
   "execution_count": 8,
   "metadata": {},
   "outputs": [
    {
     "data": {
      "text/plain": [
       "set()"
      ]
     },
     "execution_count": 8,
     "metadata": {},
     "output_type": "execute_result"
    }
   ],
   "source": [
    "read_expr('own(angus, cyril)').free()"
   ]
  },
  {
   "cell_type": "code",
   "execution_count": 9,
   "metadata": {},
   "outputs": [
    {
     "data": {
      "text/plain": [
       "set()"
      ]
     },
     "execution_count": 9,
     "metadata": {},
     "output_type": "execute_result"
    }
   ],
   "source": [
    "read_expr('exists x.dog(x)').free()"
   ]
  },
  {
   "cell_type": "code",
   "execution_count": 10,
   "metadata": {},
   "outputs": [
    {
     "data": {
      "text/plain": [
       "{Variable('x')}"
      ]
     },
     "execution_count": 10,
     "metadata": {},
     "output_type": "execute_result"
    }
   ],
   "source": [
    "read_expr('((some x.walk(x)) -> sing(x))').free()"
   ]
  },
  {
   "cell_type": "code",
   "execution_count": 11,
   "metadata": {},
   "outputs": [
    {
     "data": {
      "text/plain": [
       "{Variable('y')}"
      ]
     },
     "execution_count": 11,
     "metadata": {},
     "output_type": "execute_result"
    }
   ],
   "source": [
    "read_expr('exists x.own(y, x)').free()"
   ]
  },
  {
   "cell_type": "markdown",
   "metadata": {},
   "source": [
    "## First-Order Theorem Proving\n",
    "\n",
    "Recall the constraint `to the north of` in 10.2. Prepositional logic is not expressive enough to represent generalizations about binary predicates. But we can formalize it in first-order logic:\n",
    "\n",
    "* $\\forall x \\forall y.(north\\_of(x, y) \\rightarrow -north\\_of(y, x))$\n",
    "\n",
    "`all x. all y.(north_of(x, y) -> -north_of(y, x)`"
   ]
  },
  {
   "cell_type": "markdown",
   "metadata": {},
   "source": [
    "Even better, we can perform automated inference to show the validity of the argument.\n",
    "\n",
    "The general case in theorem proving is to determine whether a formula that we want to prove (a **proof goal**) can be derived by a finite sequence of inference steps from a list of assumed formulas. We write this as $S \\vdash g$ where \n",
    "* $S$ is a (possibly empty) list of assumptions and\n",
    "* $g$ is a proof goal"
   ]
  },
  {
   "cell_type": "markdown",
   "metadata": {},
   "source": [
    "## Summarizing the Language of First Order Logic\n",
    "Let's restate our earlier syntactic rules for propositional logic and add the formation rules for quantifers to give us the syntax of first-order logic.\n",
    "\n",
    "We'll adopt the convention that $\\left<e^n, t\\right>$ and $\\alpha_1, \\cdots, \\alpha_n$ is th type of a predicate which combines $n$ arguments of type $e$ to yield an expression of type $t$. We say that $n$ is the **arity** (no. of arguments) of the predicate. Now...\n",
    "\n",
    "1. If $P$ is a predicate of type terms of type $\\left<e^n, t\\right>$ and $\\alpha_1, \\cdots, \\alpha_n$ are terms of type $e$, then $P(\\alpha_1, \\cdots, \\alpha_n$) is of type $t$\n",
    "2. If $\\alpha$ and $\\beta$ are both of type $e$, then $(\\alpha = \\beta)$ and $(\\alpha$ `!=` $\\beta)$ are of type $t$.\n",
    "3. If $\\phi$ is of type $t$, then so is $-\\phi$\n",
    "4. If $\\phi$ and $\\psi$ are of type $t$, then so are $(\\phi \\text{  } \\& \\text{  } \\psi)$, $(\\phi \\text{  } | \\text{  } \\psi)$, $(\\phi \\rightarrow \\psi)$ and $(\\phi \\leftrightarrow \\psi)$\n",
    "5. If $\\phi$ is of type $t$ and $x$ is a variable of type $e$, then `exists x.`$\\phi$ and `all x.`$\\phi$ are of type $t$"
   ]
  },
  {
   "cell_type": "markdown",
   "metadata": {},
   "source": [
    "The following table summarizes the new logical constants of the `logic` module, and two of the methods of `Expression`s.\n",
    "\n",
    "| Example | Description   |\n",
    "|------|------|\n",
    "| `=` | equality|\n",
    "| `!=` | inequality|\n",
    "| `exists` | existential quantifier |\n",
    "| `all` | universal quantifier |\n",
    "| `e.free()` | show free variables of `e` |\n",
    "| `e.simplify()` | carry out $\\beta$-reduction on `e` |"
   ]
  },
  {
   "cell_type": "markdown",
   "metadata": {},
   "source": [
    "## Truth in Model\n",
    "To get us further forward if we can give meaning to sentences in first-order logic, we need to give a *truth-conditional semantics* to first-order logic. From the point of view of computational semantics, there are obvious limits in how far one can push this approach. However, it is still possible to gain a clearer picture of truth-conditional semantics by endocing models in NLTK."
   ]
  },
  {
   "cell_type": "markdown",
   "metadata": {},
   "source": [
    "Given a first-order language $L$, a model $M$ for $L$ is a pair $\\left<D, Val\\right>$, where $D$ is a non-empty set called the **domain** of the model and $Val$ is the **valuation function** which assigns values from $D$ to expressions of $L$ adhering to the following rules:\n",
    "\n",
    "1. For every individual constant $c$ in $L$, $Val(c)$ is an element of $D$.\n",
    "2. For every predicate symbol $P$ of arity $n \\geq 0$, $Val(P)$ is a function from $D^n$ to ${True, False}$. If the arity of $P$ is $0$, then $Val(P)$ is simply a truth value and $P$ is regarded as a propositional symbol.\n",
    "\n",
    "For example, if $P$ is of arity $2$ then $Val(P)$ will be a function $f$ from *pairs of elements* of $D$ to ${True, False}$. In the models we shall build in NLTK, we'll adopt the more convenient alternative, in whic $Val(P)$ is a set $S$ of pairs, defined as follows:\n",
    "\n",
    "$$S = \\left\\{s \\text{  } | \\text{  } f(s) = True\\right\\}$$\n",
    "\n",
    "Such $f$ is called the **characteristic function** of $S$."
   ]
  },
  {
   "cell_type": "markdown",
   "metadata": {},
   "source": [
    "Relations are represented semantically in NLTK in the standard set-theoretic way, as sets of tuples. For example, let's suppose we have a domain of discourse consisting of the individuals Bertie, Olive and Cyril, where Bertie is a boy, Olive is a girl and Cyril is a dog. Let's use the labels `b`, `o` and `c` as the corresponding labels."
   ]
  },
  {
   "cell_type": "code",
   "execution_count": 12,
   "metadata": {},
   "outputs": [],
   "source": [
    "dom = {'b', 'o', 'c'}"
   ]
  },
  {
   "cell_type": "code",
   "execution_count": 13,
   "metadata": {},
   "outputs": [
    {
     "data": {
      "text/plain": [
       "{'bertie': 'b',\n",
       " 'boy': {('b',)},\n",
       " 'cyril': 'c',\n",
       " 'dog': {('c',)},\n",
       " 'girl': {('o',)},\n",
       " 'olive': 'o',\n",
       " 'see': {('b', 'o'), ('c', 'b'), ('o', 'c')},\n",
       " 'walk': {('c',), ('o',)}}"
      ]
     },
     "execution_count": 13,
     "metadata": {},
     "output_type": "execute_result"
    }
   ],
   "source": [
    "v = \"\"\"\n",
    "bertie => b\n",
    "olive => o\n",
    "cyril => c\n",
    "boy => {b}\n",
    "girl => {o}\n",
    "dog => {c}\n",
    "walk => {o, c}\n",
    "see => {(b, o), (c, b), (o, c)}\n",
    "\"\"\"\n",
    "val = nltk.Valuation.fromstring(v)\n",
    "val"
   ]
  },
  {
   "cell_type": "markdown",
   "metadata": {},
   "source": [
    "Notice there are also unary predicates (`boy`, `girl`, `dog` as singleton tuples. This is a convenience which allows us to have a uniform treatment of relations of any arity.."
   ]
  },
  {
   "cell_type": "code",
   "execution_count": 14,
   "metadata": {},
   "outputs": [
    {
     "data": {
      "text/plain": [
       "True"
      ]
     },
     "execution_count": 14,
     "metadata": {},
     "output_type": "execute_result"
    }
   ],
   "source": [
    "('o', 'c') in val['see']"
   ]
  },
  {
   "cell_type": "code",
   "execution_count": 15,
   "metadata": {},
   "outputs": [
    {
     "data": {
      "text/plain": [
       "True"
      ]
     },
     "execution_count": 15,
     "metadata": {},
     "output_type": "execute_result"
    }
   ],
   "source": [
    "('b',) in val['boy']"
   ]
  },
  {
   "cell_type": "markdown",
   "metadata": {},
   "source": [
    "## Individual Variables and Assignments\n",
    "\n",
    "In our models, the counterpet of a context of use is a variable **assignment**. This is a mapping from individual variables to entities in the domain. Assignments are created using the `Assignment` constructor, which also takes the model's domain of discourse as a parameter."
   ]
  },
  {
   "cell_type": "code",
   "execution_count": 16,
   "metadata": {},
   "outputs": [
    {
     "data": {
      "text/plain": [
       "{'x': 'o', 'y': 'c'}"
      ]
     },
     "execution_count": 16,
     "metadata": {},
     "output_type": "execute_result"
    }
   ],
   "source": [
    "g = nltk.Assignment(dom, [('x', 'o'), ('y', 'c')])\n",
    "g"
   ]
  },
  {
   "cell_type": "code",
   "execution_count": 17,
   "metadata": {},
   "outputs": [
    {
     "name": "stdout",
     "output_type": "stream",
     "text": [
      "g[c/y][o/x]\n"
     ]
    }
   ],
   "source": [
    "#print() format that gives a notation closer to those found in logic textbooks\n",
    "print(g)"
   ]
  },
  {
   "cell_type": "markdown",
   "metadata": {},
   "source": [
    "Now we can evaluate an atomic formula of first-order logic. We create a model then call the `evaluate()` method to compute the truth value.\n",
    "\n",
    "We are evaluating a formu;a which is similar to our earlier example, `see(olive, cyril)`. "
   ]
  },
  {
   "cell_type": "code",
   "execution_count": 18,
   "metadata": {},
   "outputs": [
    {
     "data": {
      "text/plain": [
       "True"
      ]
     },
     "execution_count": 18,
     "metadata": {},
     "output_type": "execute_result"
    }
   ],
   "source": [
    "m = nltk.Model(dom, val)\n",
    "m.evaluate('see(olive, y)', g)"
   ]
  },
  {
   "cell_type": "markdown",
   "metadata": {},
   "source": [
    "However when the interpretation function encounters the variable `y`, rather than checking for a value in `val`, it asks the variable assignment `g` to come up with a value:"
   ]
  },
  {
   "cell_type": "code",
   "execution_count": 19,
   "metadata": {},
   "outputs": [
    {
     "data": {
      "text/plain": [
       "'c'"
      ]
     },
     "execution_count": 19,
     "metadata": {},
     "output_type": "execute_result"
    }
   ],
   "source": [
    "g['y']"
   ]
  },
  {
   "cell_type": "markdown",
   "metadata": {},
   "source": [
    "Since we already know that the individuals `o` and `c` stand in the `see` relation, the value `True` is as expected. We say that the assignment `g` **satisfies** the formula `see(olive, y)`. In contrast, the following formula evaluates to `False`."
   ]
  },
  {
   "cell_type": "code",
   "execution_count": 20,
   "metadata": {},
   "outputs": [
    {
     "data": {
      "text/plain": [
       "False"
      ]
     },
     "execution_count": 20,
     "metadata": {},
     "output_type": "execute_result"
    }
   ],
   "source": [
    "m.evaluate('see(y, x)', g)"
   ]
  },
  {
   "cell_type": "code",
   "execution_count": 21,
   "metadata": {},
   "outputs": [
    {
     "data": {
      "text/plain": [
       "{'x': 'o', 'y': 'c'}"
      ]
     },
     "execution_count": 21,
     "metadata": {},
     "output_type": "execute_result"
    }
   ],
   "source": [
    "#Clear all bindings from an assignment\n",
    "g"
   ]
  },
  {
   "cell_type": "code",
   "execution_count": 22,
   "metadata": {},
   "outputs": [
    {
     "data": {
      "text/plain": [
       "{}"
      ]
     },
     "execution_count": 22,
     "metadata": {},
     "output_type": "execute_result"
    }
   ],
   "source": [
    "g.purge()\n",
    "g"
   ]
  },
  {
   "cell_type": "markdown",
   "metadata": {},
   "source": [
    "Now when we try to evaluate a formula `see(olive, y)` relative to `g`, it's like trying to interpret a sentence containing a *him* in the sentence but we do not know what *him* refers to. In this case, the evaluation fails to deliver a truth value."
   ]
  },
  {
   "cell_type": "code",
   "execution_count": 23,
   "metadata": {},
   "outputs": [
    {
     "data": {
      "text/plain": [
       "'Undefined'"
      ]
     },
     "execution_count": 23,
     "metadata": {},
     "output_type": "execute_result"
    }
   ],
   "source": [
    "m.evaluate('see(olive, y)', g)"
   ]
  },
  {
   "cell_type": "markdown",
   "metadata": {},
   "source": [
    "Since our models already contain rules for interpreting boolean operators, arbitrarily complex formulas can be composed and evaluated."
   ]
  },
  {
   "cell_type": "code",
   "execution_count": 24,
   "metadata": {},
   "outputs": [
    {
     "data": {
      "text/plain": [
       "True"
      ]
     },
     "execution_count": 24,
     "metadata": {},
     "output_type": "execute_result"
    }
   ],
   "source": [
    "m.evaluate('see(bertie, olive) & boy(bertie) & -walk(bertie)', g)"
   ]
  },
  {
   "cell_type": "markdown",
   "metadata": {},
   "source": [
    "This process is called **model checking**."
   ]
  },
  {
   "cell_type": "markdown",
   "metadata": {},
   "source": [
    "## Quantification\n",
    "\n",
    "One of the crucial insights of modern logic is that the notion of variable satisfaction can be used to provide an interpretation to quantified formulas. Let's use an example\n",
    "\n",
    "`exists x.(girl(x) & walk(x))`\n",
    "\n",
    "For this we will want to check if there are any individuals in our domain, `dom`, that have the property of being a girl and walking. In other words, we want to find if there is some $u$ in `dom` such that `g[u/x]` satisfies the open formula:\n",
    "\n",
    "`(girl(x) & walk(x))`\n",
    "\n",
    "Consider the following:"
   ]
  },
  {
   "cell_type": "code",
   "execution_count": 25,
   "metadata": {},
   "outputs": [
    {
     "data": {
      "text/plain": [
       "True"
      ]
     },
     "execution_count": 25,
     "metadata": {},
     "output_type": "execute_result"
    }
   ],
   "source": [
    "m.evaluate('exists x.(girl(x) & walk(x))', g)"
   ]
  },
  {
   "cell_type": "markdown",
   "metadata": {},
   "source": [
    "This returns `True` because there is some $u$ in `dom` such that `(girl(x) & walk(x))` is satisfied by an assignment that binds `x` to $u$. In fact `o` is such a $u$:"
   ]
  },
  {
   "cell_type": "code",
   "execution_count": 26,
   "metadata": {},
   "outputs": [
    {
     "data": {
      "text/plain": [
       "True"
      ]
     },
     "execution_count": 26,
     "metadata": {},
     "output_type": "execute_result"
    }
   ],
   "source": [
    "m.evaluate('exists x.(girl(x) & walk(x))', g.add('x', 'o'))"
   ]
  },
  {
   "cell_type": "markdown",
   "metadata": {},
   "source": [
    "One useful tool offered by NLTK is the `satisfiers()` method. This returns a set of all the individuals that satisfy an open formula. The method parameters are a parsed formua, a variable and an assignment. Here are some examples:"
   ]
  },
  {
   "cell_type": "code",
   "execution_count": 27,
   "metadata": {},
   "outputs": [
    {
     "data": {
      "text/plain": [
       "{'b', 'o'}"
      ]
     },
     "execution_count": 27,
     "metadata": {},
     "output_type": "execute_result"
    }
   ],
   "source": [
    "fm1a1 = read_expr('girl(x) | boy(x)')\n",
    "m.satisfiers(fm1a1, 'x', g)"
   ]
  },
  {
   "cell_type": "code",
   "execution_count": 28,
   "metadata": {},
   "outputs": [
    {
     "data": {
      "text/plain": [
       "{'b', 'c', 'o'}"
      ]
     },
     "execution_count": 28,
     "metadata": {},
     "output_type": "execute_result"
    }
   ],
   "source": [
    "fm1a2 = read_expr('girl(x) -> walk(x)')\n",
    "m.satisfiers(fm1a2, 'x', g)"
   ]
  },
  {
   "cell_type": "code",
   "execution_count": 29,
   "metadata": {},
   "outputs": [
    {
     "data": {
      "text/plain": [
       "{'b', 'o'}"
      ]
     },
     "execution_count": 29,
     "metadata": {},
     "output_type": "execute_result"
    }
   ],
   "source": [
    "fm1a3 = read_expr('walk(x) -> girl(x)')\n",
    "m.satisfiers(fm1a3, 'x', g)"
   ]
  },
  {
   "cell_type": "code",
   "execution_count": 30,
   "metadata": {},
   "outputs": [
    {
     "data": {
      "text/plain": [
       "True"
      ]
     },
     "execution_count": 30,
     "metadata": {},
     "output_type": "execute_result"
    }
   ],
   "source": [
    "m.evaluate('all x.(girl(x) -> walk(x))', g)"
   ]
  },
  {
   "cell_type": "markdown",
   "metadata": {},
   "source": [
    "In other words, a universally quantified formula $\\forall x.\\phi$ is true with respect to `g` just in case for every $u$, $\\phi$ is true with respect to `g[u/x]`."
   ]
  },
  {
   "cell_type": "markdown",
   "metadata": {},
   "source": [
    "## Quantifier Scope Ambiguity"
   ]
  },
  {
   "cell_type": "markdown",
   "metadata": {},
   "source": [
    "What happens when we want to give a formal representation of a sentence with `two` quantifiers, such as the following?\n",
    "\n",
    "* Everybody admires someone\n",
    "\n",
    "There are (at least) two ways of expressing the above in first-order logic:\n",
    "\n",
    "1. `all x.(person(x) -> exists y.(person(y) & admire \n",
    "(x,y)))`\n",
    "2. `all x.(person(x) -> exists y.(person(y) -> admire (x,y)))`\n",
    "\n",
    "Both can be used, but they have different meanings. (2) is logically stronger than (1).\n",
    "\n",
    "(2) claims that there is a unique person, say Bruce, who is admired by everyone. (1) just requires that for every person $u$, we can find some person $u'$ whom $u$ admires, but it could be a different $u'$ in each case. We distinguish (1) and (2) in terms of the **scope** of the quantifiers. In (1), $\\forall$ has a wider scope then $\\exists$, while in (2), the ordering is reversed."
   ]
  },
  {
   "cell_type": "markdown",
   "metadata": {},
   "source": [
    "In order to examine the ambiguity more closely, let's fix the valuation as follows:"
   ]
  },
  {
   "cell_type": "code",
   "execution_count": 31,
   "metadata": {},
   "outputs": [
    {
     "data": {
      "text/plain": [
       "{'admire': {('b', 'b'), ('e', 'm'), ('j', 'b'), ('m', 'e')},\n",
       " 'bruce': 'b',\n",
       " 'elspeth': 'e',\n",
       " 'julia': 'j',\n",
       " 'matthew': 'm',\n",
       " 'person': {('b',), ('e',), ('j',), ('m',)}}"
      ]
     },
     "execution_count": 31,
     "metadata": {},
     "output_type": "execute_result"
    }
   ],
   "source": [
    ">>> v2 = \"\"\"\n",
    "... bruce => b\n",
    "... elspeth => e\n",
    "... julia => j\n",
    "... matthew => m\n",
    "... person => {b, e, j, m}\n",
    "... admire => {(j, b), (b, b), (m, e), (e, m)}\n",
    "... \"\"\"\n",
    ">>> val2 = nltk.Valuation.fromstring(v2)\n",
    "val2"
   ]
  },
  {
   "cell_type": "markdown",
   "metadata": {},
   "source": [
    "One way for exploring the results is using the `satisfiers()` method:"
   ]
  },
  {
   "cell_type": "code",
   "execution_count": 32,
   "metadata": {},
   "outputs": [
    {
     "data": {
      "text/plain": [
       "{'b', 'e', 'j', 'm'}"
      ]
     },
     "execution_count": 32,
     "metadata": {},
     "output_type": "execute_result"
    }
   ],
   "source": [
    "dom2 = val2.domain\n",
    "m2 = nltk.Model(dom2, val2)\n",
    "g2 = nltk.Assignment(dom2)\n",
    "fmla4 = read_expr('person(x) -> exists y.(person(y) & admire(x, y))')\n",
    "m2.satisfiers(fmla4, 'x', g2)"
   ]
  },
  {
   "cell_type": "markdown",
   "metadata": {},
   "source": [
    "This shows that `fmla4` holds for every individual in the domain. By contrast, consider the formula `fmla5` below. There are no satisfiers for the variable `y`:"
   ]
  },
  {
   "cell_type": "code",
   "execution_count": 33,
   "metadata": {},
   "outputs": [
    {
     "data": {
      "text/plain": [
       "set()"
      ]
     },
     "execution_count": 33,
     "metadata": {},
     "output_type": "execute_result"
    }
   ],
   "source": [
    "fmla5 = read_expr('(person(y) & all x.(person(x) -> admire(x, y)))')\n",
    "m2.satisfiers(fmla5, 'y', g2)"
   ]
  },
  {
   "cell_type": "markdown",
   "metadata": {},
   "source": [
    "This means there is no person that is admired by everybody. Let's use a different formula:"
   ]
  },
  {
   "cell_type": "code",
   "execution_count": 34,
   "metadata": {},
   "outputs": [
    {
     "data": {
      "text/plain": [
       "{'b'}"
      ]
     },
     "execution_count": 34,
     "metadata": {},
     "output_type": "execute_result"
    }
   ],
   "source": [
    "fmla6 = read_expr('(person(y) & all x.((x = bruce | x = julia) -> admire(x, y)))')\n",
    "m2.satisfiers(fmla6, 'y', g2)"
   ]
  },
  {
   "cell_type": "code",
   "execution_count": null,
   "metadata": {},
   "outputs": [],
   "source": []
  }
 ],
 "metadata": {
  "kernelspec": {
   "display_name": "Python 3",
   "language": "python",
   "name": "python3"
  },
  "language_info": {
   "codemirror_mode": {
    "name": "ipython",
    "version": 3
   },
   "file_extension": ".py",
   "mimetype": "text/x-python",
   "name": "python",
   "nbconvert_exporter": "python",
   "pygments_lexer": "ipython3",
   "version": "3.4.3"
  }
 },
 "nbformat": 4,
 "nbformat_minor": 2
}
