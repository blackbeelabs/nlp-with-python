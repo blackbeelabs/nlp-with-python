{
 "cells": [
  {
   "cell_type": "markdown",
   "metadata": {},
   "source": [
    "# 7.1 Information Extraction"
   ]
  },
  {
   "cell_type": "code",
   "execution_count": 1,
   "metadata": {},
   "outputs": [],
   "source": [
    "import nltk"
   ]
  },
  {
   "cell_type": "code",
   "execution_count": 2,
   "metadata": {},
   "outputs": [
    {
     "name": "stdout",
     "output_type": "stream",
     "text": [
      "Orgns in Atlanta:\n",
      "BBDO South\n",
      "Georgia-Pacific\n",
      "\n",
      "Orgns in New York:\n",
      "Omnicom\n",
      "DDB Needham\n",
      "Kaplan Thaler Group\n"
     ]
    }
   ],
   "source": [
    "#If location data is stored in Python as tuples as such, then it is straightforward to answer\n",
    "#questions\n",
    "locations = [(\"Omnicom\", \"IN\", \"New York\"), \n",
    "            (\"DDB Needham\", \"IN\", \"New York\"), \n",
    "            (\"Kaplan Thaler Group\", \"IN\", \"New York\"), \n",
    "            (\"BBDO South\", \"IN\", \"Atlanta\"), \n",
    "            (\"Georgia-Pacific\", \"IN\", \"Atlanta\"),]\n",
    "#For example, to answer the question \"Which organizations operate in Atlanta, simply \n",
    "#use the following code\n",
    "orgns_in_atlanta = [(e1, rel, e2) for (e1, rel, e2) in locations \\\n",
    "                    if rel == \"IN\" and e2 == \"Atlanta\"]\n",
    "print(\"Orgns in Atlanta:\")\n",
    "for (e1, rel, e2) in orgns_in_atlanta:\n",
    "    print(e1)\n",
    "print()\n",
    "#Do the same thing for New York\n",
    "orgns_in_ny = [(e1, rel, e2) for (e1, rel, e2) in locations \\\n",
    "                    if rel == \"IN\" and e2 == \"New York\"]\n",
    "print(\"Orgns in New York:\")\n",
    "for (e1, rel, e2) in orgns_in_ny:\n",
    "    print(e1)"
   ]
  },
  {
   "cell_type": "code",
   "execution_count": 3,
   "metadata": {},
   "outputs": [],
   "source": [
    "#Defining a process that connects NLTK's sentence segmenter, word tokenizer and POS tagger:\n",
    "def ie_process(document):\n",
    "    sentences = nltk.sent_tokenize(document)\n",
    "    sentences = [nltk.word_tokenize(sent) for sent in sentences]\n",
    "    sentences = [nltk.pos_tag(sent) for sent in sentences]\n",
    "    return sentences"
   ]
  },
  {
   "cell_type": "code",
   "execution_count": 4,
   "metadata": {},
   "outputs": [
    {
     "data": {
      "text/plain": [
       "[[('Jean', 'NNP'),\n",
       "  ('is', 'VBZ'),\n",
       "  ('Chinese', 'JJ'),\n",
       "  (',', ','),\n",
       "  ('Singaporean', 'NNP'),\n",
       "  (',', ','),\n",
       "  ('and', 'CC'),\n",
       "  ('in', 'IN'),\n",
       "  ('her', 'PRP$'),\n",
       "  ('thirties', 'NNS'),\n",
       "  ('.', '.')],\n",
       " [('She', 'PRP'),\n",
       "  ('’', 'VBD'),\n",
       "  ('s', 'NNS'),\n",
       "  ('also', 'RB'),\n",
       "  ('spent', 'VBD'),\n",
       "  ('the', 'DT'),\n",
       "  ('last', 'JJ'),\n",
       "  ('six', 'CD'),\n",
       "  ('months', 'NNS'),\n",
       "  ('working', 'VBG'),\n",
       "  ('in', 'IN'),\n",
       "  ('the', 'DT'),\n",
       "  ('engineering', 'NN'),\n",
       "  ('industry', 'NN'),\n",
       "  ('where', 'WRB'),\n",
       "  ('men', 'NNS'),\n",
       "  ('outnumber', 'VBP'),\n",
       "  ('women', 'NNS'),\n",
       "  ('9', 'CD'),\n",
       "  ('to', 'TO'),\n",
       "  ('1', 'CD'),\n",
       "  ('.', '.')]]"
      ]
     },
     "execution_count": 4,
     "metadata": {},
     "output_type": "execute_result"
    }
   ],
   "source": [
    "iep_s = ie_process(\"Jean is Chinese, Singaporean, and in her thirties. \" \n",
    "                   \"She’s also spent the last six months working in the \"\n",
    "                   \"engineering industry where men outnumber women 9 to 1.\")\n",
    "iep_s\n",
    "#NNP:  Proper noun                 #PRP$: Possessive Pronoun \n",
    "#VBZ:  3rd person singular verb    #NNS:  Plural noun\n",
    "##JJ:  Adjective                   #PRP:  Personal pronoun (i, he, she)  \n",
    "##CC:  Coordinating Conjunction    #VBD:  Verb, past tense \n",
    "##IN:  Preposition in              #DT :  Determiner \n",
    "#CD :  Cardinal Digit              #VBG:  Present Participle (-ing)\n",
    "#WRB:  5W / 1H word: (who, what where)\n",
    "#More at https://pythonprogramming.net/natural-language-toolkit-nltk-part-speech-tagging/"
   ]
  }
 ],
 "metadata": {
  "kernelspec": {
   "display_name": "Python 3",
   "language": "python",
   "name": "python3"
  },
  "language_info": {
   "codemirror_mode": {
    "name": "ipython",
    "version": 3
   },
   "file_extension": ".py",
   "mimetype": "text/x-python",
   "name": "python",
   "nbconvert_exporter": "python",
   "pygments_lexer": "ipython3",
   "version": "3.4.3"
  }
 },
 "nbformat": 4,
 "nbformat_minor": 2
}
