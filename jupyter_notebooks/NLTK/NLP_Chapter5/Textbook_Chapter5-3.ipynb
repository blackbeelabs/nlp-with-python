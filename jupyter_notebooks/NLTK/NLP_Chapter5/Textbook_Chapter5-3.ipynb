{
 "cells": [
  {
   "cell_type": "markdown",
   "metadata": {},
   "source": [
    "## 5.3"
   ]
  },
  {
   "cell_type": "code",
   "execution_count": 1,
   "metadata": {},
   "outputs": [
    {
     "data": {
      "text/plain": [
       "{'colorless': 'ADJ', 'furiously': 'ADV', 'ideas': 'N', 'sleep': 'V'}"
      ]
     },
     "execution_count": 1,
     "metadata": {},
     "output_type": "execute_result"
    }
   ],
   "source": [
    "#Defining a dictionary\n",
    "pos = {}\n",
    "pos['colorless'] = 'ADJ'\n",
    "pos['ideas'] = 'N'\n",
    "pos['sleep'] = 'V'\n",
    "pos['furiously'] = 'ADV'\n",
    "pos"
   ]
  },
  {
   "cell_type": "code",
   "execution_count": 2,
   "metadata": {},
   "outputs": [
    {
     "name": "stdout",
     "output_type": "stream",
     "text": [
      "N\n"
     ]
    }
   ],
   "source": [
    "#Retrieving a key from a dictionary\n",
    "print(pos['ideas'])"
   ]
  },
  {
   "cell_type": "code",
   "execution_count": 4,
   "metadata": {},
   "outputs": [
    {
     "ename": "KeyError",
     "evalue": "'green'",
     "output_type": "error",
     "traceback": [
      "\u001b[0;31m---------------------------------------------------------------------------\u001b[0m",
      "\u001b[0;31mKeyError\u001b[0m                                  Traceback (most recent call last)",
      "\u001b[0;32m<ipython-input-4-ef91cc3dcba9>\u001b[0m in \u001b[0;36m<module>\u001b[0;34m()\u001b[0m\n\u001b[1;32m      1\u001b[0m \u001b[0;31m#Throwing a KeyError when the key is not found in a dictionary\u001b[0m\u001b[0;34m\u001b[0m\u001b[0;34m\u001b[0m\u001b[0m\n\u001b[0;32m----> 2\u001b[0;31m \u001b[0mpos\u001b[0m\u001b[0;34m[\u001b[0m\u001b[0;34m'green'\u001b[0m\u001b[0;34m]\u001b[0m\u001b[0;34m\u001b[0m\u001b[0m\n\u001b[0m",
      "\u001b[0;31mKeyError\u001b[0m: 'green'"
     ]
    }
   ],
   "source": [
    "#Throwing a KeyError when the key is not found in a dictionary\n",
    "pos['green']"
   ]
  },
  {
   "cell_type": "code",
   "execution_count": 5,
   "metadata": {},
   "outputs": [
    {
     "data": {
      "text/plain": [
       "['colorless', 'ideas']"
      ]
     },
     "execution_count": 5,
     "metadata": {},
     "output_type": "execute_result"
    }
   ],
   "source": [
    "# Collecting all the keys in a dictionary as a list\n",
    "list(pos)\n",
    "# Sorted list of keys\n",
    "sorted(pos)\n",
    "# Using keys in a for loop\n",
    "[w for w in pos if w.endswith('s')]"
   ]
  },
  {
   "cell_type": "code",
   "execution_count": 6,
   "metadata": {},
   "outputs": [
    {
     "name": "stdout",
     "output_type": "stream",
     "text": [
      "colorless : ADJ\n",
      "furiously : ADV\n",
      "ideas : N\n",
      "sleep : V\n"
     ]
    }
   ],
   "source": [
    "# Accessing the key and value of a dictionary\n",
    "for w in sorted(pos):\n",
    "    print(\"%s : %s\" % (w, pos[w]))"
   ]
  },
  {
   "cell_type": "code",
   "execution_count": 7,
   "metadata": {},
   "outputs": [
    {
     "data": {
      "text/plain": [
       "dict_keys(['furiously', 'colorless', 'ideas', 'sleep'])"
      ]
     },
     "execution_count": 7,
     "metadata": {},
     "output_type": "execute_result"
    }
   ],
   "source": [
    "# Using methods of dictionaries: keys()\n",
    "pos.keys()"
   ]
  },
  {
   "cell_type": "code",
   "execution_count": 8,
   "metadata": {},
   "outputs": [
    {
     "data": {
      "text/plain": [
       "dict_values(['ADV', 'ADJ', 'N', 'V'])"
      ]
     },
     "execution_count": 8,
     "metadata": {},
     "output_type": "execute_result"
    }
   ],
   "source": [
    "# Using methods of dictionaries: values()\n",
    "pos.values()"
   ]
  },
  {
   "cell_type": "code",
   "execution_count": 9,
   "metadata": {},
   "outputs": [
    {
     "data": {
      "text/plain": [
       "dict_items([('furiously', 'ADV'), ('colorless', 'ADJ'), ('ideas', 'N'), ('sleep', 'V')])"
      ]
     },
     "execution_count": 9,
     "metadata": {},
     "output_type": "execute_result"
    }
   ],
   "source": [
    "# Using methods of dictionaries: items()\n",
    "pos.items()"
   ]
  },
  {
   "cell_type": "code",
   "execution_count": 10,
   "metadata": {},
   "outputs": [
    {
     "data": {
      "text/plain": [
       "{'colorless': 'ADJ', 'furiously': 'ADV', 'ideas': 'N', 'sleep': ['N', 'V']}"
      ]
     },
     "execution_count": 10,
     "metadata": {},
     "output_type": "execute_result"
    }
   ],
   "source": [
    "# Adding a list as the value in a dictionary\n",
    "pos['sleep'] = ['N', 'V']\n",
    "pos"
   ]
  },
  {
   "cell_type": "code",
   "execution_count": 11,
   "metadata": {},
   "outputs": [
    {
     "data": {
      "text/plain": [
       "\"UNK | Alice | ' | s | Adventures | in | UNK | by | Lewis | Carroll | 1865 | ] | CHAPTER | I | . | UNK | the | Rabbit | UNK | Hole | Alice | was | beginning | to | get | very | UNK | of | sitting | by | her | sister | on | the | UNK | , | and | of | having | nothing | to | UNK | UNK | once | or | UNK | she | UNK | UNK | into\""
      ]
     },
     "execution_count": 11,
     "metadata": {},
     "output_type": "execute_result"
    }
   ],
   "source": [
    "#Using the defaultdictionary to tag \"UNK\" to newly discovered words\n",
    "import nltk\n",
    "#Obtain all the words of Alice in Wonderland\n",
    "alice = nltk.corpus.gutenberg.words('carroll-alice.txt')\n",
    "#Obtain the frequency distribution of each token in the document\n",
    "vocab = nltk.FreqDist(alice)\n",
    "#Now, obtain a sample of 1000 words\n",
    "v1000 = list(vocab)[:2000]\n",
    "#Define a deafultdict where the default value is 'UNK'\n",
    "mapping = nltk.defaultdict(lambda: 'UNK')\n",
    "#For each token in v1000, the key is v and its associated value is also v in mapping\n",
    "for v in v1000:\n",
    "    mapping[v] = v\n",
    "#alice2 is a list where we collect the mapped values of mapping for each word in alice\n",
    "alice2 = [mapping[v] for v in alice]\n",
    "\" | \".join(alice2[:50])\n",
    "#For a word that is found in v1000, the word is displayed. \n",
    "#For all other words, UNK is displayed."
   ]
  },
  {
   "cell_type": "code",
   "execution_count": 12,
   "metadata": {},
   "outputs": [],
   "source": [
    "import nltk\n",
    "#Counts is a defaultdict with new keys having values defaulting to 0\n",
    "counts = nltk.defaultdict(int)\n",
    "#Let's import the brown corpus\n",
    "from nltk.corpus import brown\n",
    "#Incrementally updating a dict. If the word does not exist, then key = 0. Else, add 1 to key.\n",
    "for (word, tag) in brown.tagged_words(categories='news'):\n",
    "    counts[tag] += 1"
   ]
  },
  {
   "cell_type": "code",
   "execution_count": 15,
   "metadata": {
    "scrolled": true
   },
   "outputs": [
    {
     "data": {
      "text/plain": [
       "8336"
      ]
     },
     "execution_count": 15,
     "metadata": {},
     "output_type": "execute_result"
    }
   ],
   "source": [
    "import operator\n",
    "#itemgetter(n) gets the n-th element of some sequence object\n",
    "p = ('NP', 8336)\n",
    "#Python 3 syntax\n",
    "operator.itemgetter(1)(p)"
   ]
  },
  {
   "cell_type": "code",
   "execution_count": 16,
   "metadata": {},
   "outputs": [
    {
     "data": {
      "text/plain": [
       "'NN | IN | AT | NP | , | NNS | . | JJ | CC | VBD'"
      ]
     },
     "execution_count": 16,
     "metadata": {},
     "output_type": "execute_result"
    }
   ],
   "source": [
    "from operator import itemgetter\n",
    "#Obtain all the tags starting from the most frequent tag\n",
    "\" | \".join([t for t, c in sorted(counts.items(), key = itemgetter(1), reverse=True)][0:10])"
   ]
  },
  {
   "cell_type": "code",
   "execution_count": 18,
   "metadata": {},
   "outputs": [
    {
     "name": "stdout",
     "output_type": "stream",
     "text": [
      "[nltk_data] Downloading package words to\n",
      "[nltk_data]     /Users/limweichiang/nltk_data...\n",
      "[nltk_data]   Unzipping corpora/words.zip.\n"
     ]
    }
   ],
   "source": [
    "#Complete this exercise\n",
    "#Create an anagram list\n",
    "nltk.download('words')\n",
    "words = nltk.corpus.words.words('en')"
   ]
  },
  {
   "cell_type": "code",
   "execution_count": 19,
   "metadata": {},
   "outputs": [
    {
     "data": {
      "text/plain": [
       "defaultdict(list,\n",
       "            {'ADJ': ['colorless', 'old'],\n",
       "             'ADV': ['peacefully', 'furiously'],\n",
       "             'N': ['cats', 'ideas'],\n",
       "             'V': ['scratch', 'sleep']})"
      ]
     },
     "execution_count": 19,
     "metadata": {},
     "output_type": "execute_result"
    }
   ],
   "source": [
    "#Reversing a dictionary using defaultdict\n",
    "pos = {'cats': 'N', 'scratch': 'V', 'peacefully': 'ADV', 'old': 'ADJ',\n",
    "       'colorless': 'ADJ', 'ideas': 'N', 'sleep': 'V', 'furiously': 'ADV'}\n",
    "pos2 = nltk.defaultdict(list)\n",
    "for k, v in pos.items():\n",
    "    pos2[v].append(k)\n",
    "pos2"
   ]
  },
  {
   "cell_type": "code",
   "execution_count": null,
   "metadata": {},
   "outputs": [],
   "source": []
  }
 ],
 "metadata": {
  "kernelspec": {
   "display_name": "Python 3",
   "language": "python",
   "name": "python3"
  },
  "language_info": {
   "codemirror_mode": {
    "name": "ipython",
    "version": 3
   },
   "file_extension": ".py",
   "mimetype": "text/x-python",
   "name": "python",
   "nbconvert_exporter": "python",
   "pygments_lexer": "ipython3",
   "version": "3.4.3"
  }
 },
 "nbformat": 4,
 "nbformat_minor": 2
}
